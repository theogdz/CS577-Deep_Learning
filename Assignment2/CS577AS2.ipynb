{
  "nbformat": 4,
  "nbformat_minor": 0,
  "metadata": {
    "colab": {
      "name": "CS577AS2.ipynb",
      "provenance": [],
      "collapsed_sections": []
    },
    "kernelspec": {
      "name": "python3",
      "display_name": "Python 3"
    },
    "accelerator": "GPU"
  },
  "cells": [
    {
      "cell_type": "code",
      "metadata": {
        "id": "4w0i90Qq8fIF"
      },
      "source": [
        "import pandas as pd\n",
        "import numpy as np\n",
        "from sklearn.datasets import load_iris , make_multilabel_classification\n",
        "import matplotlib.pyplot as plt\n",
        "import pickle\n",
        "from sklearn.model_selection import train_test_split"
      ],
      "execution_count": 2,
      "outputs": []
    },
    {
      "cell_type": "code",
      "metadata": {
        "id": "hO5EeQgS9YSa"
      },
      "source": [
        "# Creating a class for each type of node\n",
        "class MultGate():\n",
        "  def forward(self,x,y):\n",
        "    z = np.dot(x,y)\n",
        "    self.x = x\n",
        "    self.y = y\n",
        "    return z\n",
        "  def backward(self,dz):\n",
        "    dx = self.y*dz\n",
        "    dy = self.x*dz\n",
        "    return [dx,dy]\n",
        "\n",
        "class AddGate():\n",
        "  def forward(self,x,y):\n",
        "    self.x = x\n",
        "    self.y = y\n",
        "    z = np.add(x,y) \n",
        "    return z\n",
        "  def backward(self,dz):\n",
        "    return [dz,dz]\n",
        "\n",
        "class SigmoidGate():\n",
        "  def forward(self,x):\n",
        "    self.x = x\n",
        "    return 1/(1 + np.exp(-x))\n",
        "  def backward(self,x):\n",
        "    self.x = x\n",
        "    return x * (1 - x)\n",
        "\n",
        "class SoftmaxGate(): \n",
        "  def forward(self,x):\n",
        "    self.x = x\n",
        "    exps = np.exp(x - np.max(x, axis=1, keepdims=True))\n",
        "    return exps/np.sum(exps, axis=1, keepdims=True)\n",
        "\n",
        "class CrossEntropyGate():\n",
        "  def forward(self,x,y):\n",
        "    self.x = x\n",
        "    self.y = y\n",
        "    l = -np.log(x[0,y])\n",
        "    loss = np.sum(l)\n",
        "    return loss\n",
        "  def backward(self,x,y):\n",
        "    self.x = x\n",
        "    self.y = y\n",
        "    n_samples = y.shape[0]\n",
        "    res = x - y\n",
        "    return res/n_samples\n"
      ],
      "execution_count": 3,
      "outputs": []
    },
    {
      "cell_type": "code",
      "metadata": {
        "id": "OCUeheuamOJx"
      },
      "source": [
        "# Creating a class for the model and defining the front and back propagation\n",
        "class model():    \n",
        "    def __init__(self, x, y,neurons):\n",
        "        self.x = x\n",
        "        self.lr = 0.001\n",
        "        self.decayRate = 0.002\n",
        "        ip_dim = x.shape[1]\n",
        "        op_dim = 3\n",
        "        self.loss=[]\n",
        "        self.loss_mean=[]\n",
        "\n",
        "        self.w1 = np.random.randn(ip_dim, neurons)\n",
        "        self.b1 = np.zeros((1, neurons))\n",
        "        self.multiply1 = MultGate()\n",
        "        self.addition1 = AddGate()\n",
        "        self.sigmoid1 = SigmoidGate()\n",
        "        \n",
        "        self.w2 = np.random.randn(neurons, neurons)\n",
        "        self.b2 = np.zeros((1, neurons))\n",
        "        self.multiply2 = MultGate()\n",
        "        self.addition2 = AddGate()\n",
        "        self.sigmoid2 = SigmoidGate()\n",
        "\n",
        "        self.w3 = np.random.randn(neurons, 3)\n",
        "        self.b3 = np.zeros((1, 3))\n",
        "        self.multiply3 = MultGate()\n",
        "        self.addition3 = AddGate()\n",
        "        self.softmax = SoftmaxGate()\n",
        "        self.cross_entropy = CrossEntropyGate()\n",
        "        self.y = y\n",
        "\n",
        "    def forward(self,x,y):\n",
        "        m1 = self.multiply1.forward(x,self.w1)\n",
        "        z1 = self.addition1.forward(m1,self.b1)\n",
        "        self.a1 = self.sigmoid1.forward(z1)\n",
        "        m2 = self.multiply1.forward(self.a1,self.w2)\n",
        "        z2 = self.addition1.forward(m2,self.b2)\n",
        "        self.a2 = self.sigmoid2.forward(z2)\n",
        "        m3 = self.multiply1.forward(self.a2,self.w3)\n",
        "        z3 = self.addition1.forward(m3,self.b3)\n",
        "        self.a3 = self.softmax.forward(z3)\n",
        "        loss = self.cross_entropy.forward(self.a3,y)\n",
        "        return loss\n",
        "\n",
        "    def backward(self,x,y):\n",
        "        dloss_yh = self.cross_entropy.backward(self.a3, y)\n",
        "        dloss_z2 = np.dot(dloss_yh, self.w3.T)\n",
        "        dloss_a2 = dloss_z2 * self.sigmoid2.backward(self.a2)\n",
        "        dloss_z1 = np.dot(dloss_a2, self.w2.T)\n",
        "        self.lr*= (1.0 / (1.0 + (self.decayRate * 1)))\n",
        "        dloss_a1 = dloss_z1 * self.sigmoid1.backward(self.a1)\n",
        "        self.w3 -= self.lr * np.dot(self.a2.T, dloss_yh)\n",
        "        self.b3 -= self.lr * np.sum(dloss_yh, axis=0, keepdims=True)\n",
        "        self.w2 -= self.lr * np.dot(self.a1.T, dloss_a2)\n",
        "        self.b2 -= self.lr * np.sum(dloss_a2, axis=0)\n",
        "        self.w1 -= self.lr * np.dot(x.T, dloss_a1)\n",
        "        self.b1 -= self.lr * np.sum(dloss_a1, axis=0)"
      ],
      "execution_count": null,
      "outputs": []
    },
    {
      "cell_type": "code",
      "metadata": {
        "id": "G5BS4d3TXVsW"
      },
      "source": [
        "# Predicting using the model and testing the accuracy\n",
        "def predict(self, data,y):\n",
        "        self.x = data\n",
        "        self.forward(data,y)\n",
        "        return self.a3.argmax()\n",
        "def get_acc(x, y):\n",
        "    acc = 0\n",
        "    for xx,yy in zip(x, y):\n",
        "        pred = modelx.predict(xx,y)\n",
        "        if pred == np.argmax(yy):\n",
        "            acc +=1\n",
        "    return 100*acc/len(x)"
      ],
      "execution_count": 4,
      "outputs": []
    },
    {
      "cell_type": "code",
      "metadata": {
        "id": "0Err_fZx-DR1"
      },
      "source": [
        "# Functions used to load the data.\n",
        "def one_hot_encoding(labels):\n",
        "    return pd.get_dummies(labels)\n",
        "\n",
        "def loadIrisDataset():\n",
        "    iris = load_iris()\n",
        "    x = iris.data\n",
        "    y = one_hot_encoding(iris.target)\n",
        "    x = np.array(iris.data)\n",
        "    mean = x.mean(axis=0)\n",
        "    std = x.std(axis=0)\n",
        "    x_train, x_test, y_train, y_test = train_test_split(x, y, test_size=0.3, random_state=42)\n",
        "    x_train -= mean\n",
        "    x_train /= std\n",
        "    x_test -= mean\n",
        "    x_test /= std\n",
        "    y_train=np.array(y_train)\n",
        "    y_test=np.array(y_test)\n",
        "    return x_train, x_test, y_train, y_test\n",
        "\n",
        "def loadRandomDataset():\n",
        "    x,y = make_multilabel_classification(n_samples=200,n_features=4,n_classes=3,n_labels=1,allow_unlabeled=False)\n",
        "    x = np.array(x)\n",
        "    mean = x.mean(axis=0)\n",
        "    std = x.std(axis=0)\n",
        "    x_train, x_test, y_train, y_test = train_test_split(x, y, test_size=0.3, random_state=42)\n",
        "    x_train -= mean\n",
        "    x_train /= std\n",
        "    x_test -= mean\n",
        "    x_test /= std\n",
        "    y_train=np.array(y_train)\n",
        "    y_test=np.array(y_test)\n",
        "    return x_train, x_test, y_train, y_test\n",
        "\n",
        "# Functions used to plot the data  \n",
        "def plot(a,b):\n",
        "    loss = a.loss_mean\n",
        "    epochs = range(1,len(loss) + 1)\n",
        "    plt.plot(epochs,loss,label='training loss')\n",
        "    plt.title(str(b))\n",
        "    plt.xlabel('Epochs')\n",
        "    plt.ylabel('loss')\n",
        "    plt.legend()\n",
        "    plt.figure()"
      ],
      "execution_count": 5,
      "outputs": []
    },
    {
      "cell_type": "code",
      "metadata": {
        "id": "vdU-Pmub61_o",
        "colab": {
          "base_uri": "https://localhost:8080/",
          "height": 506
        },
        "outputId": "f4c8ee1a-8c5b-49df-a27b-dac4890b3474"
      },
      "source": [
        "x_train, x_test, y_train, y_test = loadIrisDataset() #Change the dataset here\n",
        "\n",
        "\n",
        "#Testing models an increasing the number of neurons until accuracy is > 90%\n",
        "epochs = 100\n",
        "done = False\n",
        "for i in (2**p for p in range(4, 11)):\n",
        "    modelx = model(x_train, y_train,i)\n",
        "    for x in range(epochs):\n",
        "        for i in range(x_train.shape[0]):\n",
        "            loss = modelx.forward(x_train[i].reshape(1,x_train.shape[1]),y_train[i])\n",
        "            modelx.backward(x_train[i].reshape(1,x_train.shape[1]),y_train[i])\n",
        "            modelx.loss.append(loss)\n",
        "        modelx.loss_mean.append(np.mean(modelx.loss))\n",
        "    if get_acc(x_test, y_test) >90:\n",
        "      done = True\n",
        "      print(\"Training accuracy: \", get_acc(x_train,y_train))\n",
        "      print(\"Test accuracy: \", get_acc(x_test, y_test))\n",
        "      print(\"The number of neurons in the hidden layer: \", i)\n",
        "      break\n",
        "    print(\"Training accuracy: \", get_acc(x_train,y_train))\n",
        "    print(\"Test accuracy: \", get_acc(x_test, y_test))\n",
        "if not done:\n",
        "    print(\"The number of neurons in the hidden layer: \", i)\n",
        "plot(modelx,\"Iris\")"
      ],
      "execution_count": 11,
      "outputs": [
        {
          "output_type": "stream",
          "text": [
            "Training accuracy:  46.666666666666664\n",
            "Test accuracy:  57.77777777777778\n",
            "Training accuracy:  33.333333333333336\n",
            "Test accuracy:  31.11111111111111\n",
            "Training accuracy:  45.714285714285715\n",
            "Test accuracy:  53.333333333333336\n",
            "Training accuracy:  58.095238095238095\n",
            "Test accuracy:  57.77777777777778\n",
            "Training accuracy:  80.0\n",
            "Test accuracy:  91.11111111111111\n",
            "The number of neurons in the hidden layer:  104\n"
          ],
          "name": "stdout"
        },
        {
          "output_type": "display_data",
          "data": {
            "image/png": "[encoded data removed]",
            "text/plain": [
              "<Figure size 432x288 with 1 Axes>"
            ]
          },
          "metadata": {
            "tags": [],
            "needs_background": "light"
          }
        },
        {
          "output_type": "display_data",
          "data": {
            "text/plain": [
              "<Figure size 432x288 with 0 Axes>"
            ]
          },
          "metadata": {
            "tags": []
          }
        }
      ]
    }
  ]
}