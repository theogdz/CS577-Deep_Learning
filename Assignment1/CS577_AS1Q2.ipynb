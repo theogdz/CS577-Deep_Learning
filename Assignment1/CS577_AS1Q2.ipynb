{
  "nbformat": 4,
  "nbformat_minor": 0,
  "metadata": {
    "colab": {
      "name": "CS577-AS1Q2.ipynb",
      "provenance": [],
      "collapsed_sections": []
    },
    "kernelspec": {
      "name": "python3",
      "display_name": "Python 3"
    },
    "accelerator": "GPU"
  },
  "cells": [
    {
      "cell_type": "code",
      "metadata": {
        "id": "PmdQowEh4bxg",
        "colab": {
          "base_uri": "https://localhost:8080/"
        },
        "outputId": "84cbf4ff-16e2-4bee-c5d6-3b10d3356fe1"
      },
      "source": [
        "import tensorflow as tf\r\n",
        "import matplotlib.pyplot as plt\r\n",
        "from tensorflow.keras.datasets import cifar10\r\n",
        "from keras import models, layers\r\n",
        "from keras.utils import to_categorical\r\n",
        "import numpy as np\r\n",
        "from google.colab import drive\r\n",
        "drive.mount(\"/content/drive\")"
      ],
      "execution_count": 1,
      "outputs": [
        {
          "output_type": "stream",
          "text": [
            "Drive already mounted at /content/drive; to attempt to forcibly remount, call drive.mount(\"/content/drive\", force_remount=True).\n"
          ],
          "name": "stdout"
        }
      ]
    },
    {
      "cell_type": "code",
      "metadata": {
        "id": "eLnMxDs7lkv7",
        "colab": {
          "base_uri": "https://localhost:8080/"
        },
        "outputId": "8c2089d6-9c9f-4350-f098-db76b54208ac"
      },
      "source": [
        "# Step 1: Load the data\r\n",
        "(train_images, train_labels) , (test_images,test_labels) = cifar10.load_data()\r\n",
        "train_image = []\r\n",
        "train_label = []\r\n",
        "test_image = []\r\n",
        "test_label = []\r\n",
        "\r\n",
        "for i in range(len(train_labels)):\r\n",
        "  if train_labels[i][0] <= 2:\r\n",
        "    train_image.append(train_images[i])\r\n",
        "    train_label.append(train_labels[i][0])\r\n",
        "\r\n",
        "for i in range(len(test_labels)):\r\n",
        "  if test_labels[i][0] <= 2:\r\n",
        "    test_image.append(test_images[i])\r\n",
        "    test_label.append(test_labels[i][0])\r\n",
        "\r\n",
        "train_images = np.array(train_image)\r\n",
        "train_labels = np.array(train_label)\r\n",
        "test_images = np.array(test_image)\r\n",
        "test_labels = np.array(test_label)\r\n",
        "\r\n",
        "train_images = train_images/255\r\n",
        "test_images = test_images/ 255\r\n"
      ],
      "execution_count": 2,
      "outputs": [
        {
          "output_type": "stream",
          "text": [
            "Downloading data from https://www.cs.toronto.edu/~kriz/cifar-10-python.tar.gz\n",
            "170500096/170498071 [==============================] - 3s 0us/step\n"
          ],
          "name": "stdout"
        }
      ]
    },
    {
      "cell_type": "code",
      "metadata": {
        "id": "lT-0I2353y-o"
      },
      "source": [
        "# Step 2: Create validation set\r\n",
        "validation_images = train_images[:3000]\r\n",
        "train_images = train_images[3000:]\r\n",
        "validation_labels = train_labels [:3000]\r\n",
        "train_labels = train_labels[3000:]"
      ],
      "execution_count": 3,
      "outputs": []
    },
    {
      "cell_type": "code",
      "metadata": {
        "id": "kNoM1cqC4Fel"
      },
      "source": [
        "# Step 3: Prepare the data\r\n",
        "train_labels = to_categorical(train_labels,3)\r\n",
        "test_labels = to_categorical(test_labels,3)\r\n",
        "validation_labels = to_categorical(validation_labels,3)"
      ],
      "execution_count": 4,
      "outputs": []
    },
    {
      "cell_type": "code",
      "metadata": {
        "id": "GgmnQ5R2kLJJ"
      },
      "source": [
        "# Step 4 and 7: Build the network and tuning the hyper-parameters\r\n",
        "network = models.Sequential()\r\n",
        "network.add(layers.Dense(16,activation=\"relu\",input_shape = (32,32,3)))\r\n",
        "network.add(layers.Dense(16,activation=\"relu\"))\r\n",
        "network.add(layers.Dense(32,activation=\"relu\"))\r\n",
        "network.add(layers.Flatten())\r\n",
        "network.add(layers.Dense(3,activation=\"softmax\")) "
      ],
      "execution_count": 5,
      "outputs": []
    },
    {
      "cell_type": "code",
      "metadata": {
        "id": "L57HewiT4Qsi"
      },
      "source": [
        "# Step 5 and 7: Compile the model and tuning the hyper-parameters\r\n",
        "network.compile(optimizer=\"rmsprop\",loss=\"categorical_crossentropy\",metrics=[\"accuracy\"])"
      ],
      "execution_count": 6,
      "outputs": []
    },
    {
      "cell_type": "code",
      "metadata": {
        "id": "t_BL3Ev4qlrV"
      },
      "source": [
        "# Step 6: Training and validation\r\n",
        "history = network.fit(train_images,train_labels,epochs=30,batch_size=64, validation_data=(validation_images,validation_labels))"
      ],
      "execution_count": null,
      "outputs": []
    },
    {
      "cell_type": "code",
      "metadata": {
        "id": "ty7l4bl-N737"
      },
      "source": [
        "# Plotting the graph\r\n",
        "loss = history.history[\"loss\"]\r\n",
        "val_loss = history.history[\"val_loss\"]\r\n",
        "epochs = range(1,len(loss)+1)\r\n",
        "plt.plot(epochs,loss,'bo',label=\"Training loss\")\r\n",
        "plt.plot(epochs, val_loss,\"b\",label=\"Validation loss\")\r\n",
        "plt.title(\"Training and Validation loss\")\r\n",
        "plt.xlabel(\"Epochs\")\r\n",
        "plt.ylabel(\"Loss\")\r\n",
        "plt.legend()\r\n",
        "plt.show()\r\n",
        "plt.clf()\r\n",
        "accuracy = history.history[\"accuracy\"]\r\n",
        "val_accuracy = history.history[\"val_accuracy\"]\r\n",
        "epochs = range(1,len(loss)+1)\r\n",
        "plt.plot(epochs,accuracy,'bo',label=\"Training accuracy\")\r\n",
        "plt.plot(epochs, val_accuracy,\"b\",label=\"Validation accuracy\")\r\n",
        "plt.title(\"Training and Validation accuracy\")\r\n",
        "plt.xlabel(\"Epochs\")\r\n",
        "plt.ylabel(\"accuracy\")\r\n",
        "plt.legend()\r\n",
        "plt.show()"
      ],
      "execution_count": null,
      "outputs": []
    },
    {
      "cell_type": "code",
      "metadata": {
        "id": "pp_0_UQ9PsVm"
      },
      "source": [
        "# Step 8: Retraining the final model\r\n",
        "network = models.Sequential()\r\n",
        "network.add(layers.Dense(64,activation=\"relu\",input_shape = (32,32,3)))\r\n",
        "network.add(layers.Dense(32,activation=\"relu\"))\r\n",
        "network.add(layers.Dense(32,activation=\"relu\"))\r\n",
        "network.add(layers.Flatten())\r\n",
        "network.add(layers.Dense(3,activation=\"softmax\")) \r\n",
        "network.compile(optimizer=\"rmsprop\",loss=\"categorical_crossentropy\",metrics=[\"accuracy\"])\r\n",
        "network.fit(train_images,train_labels,epochs=7,batch_size=64, validation_data=(validation_images,validation_labels))\r\n",
        "results = network.evaluate(test_images, test_labels)\r\n",
        "print(results)"
      ],
      "execution_count": null,
      "outputs": []
    },
    {
      "cell_type": "code",
      "metadata": {
        "id": "4TWAFjrKBpoR"
      },
      "source": [
        "network.save(\"/content/drive/MyDrive/CS 577/AS1/Q2.h5\")"
      ],
      "execution_count": null,
      "outputs": []
    }
  ]
}