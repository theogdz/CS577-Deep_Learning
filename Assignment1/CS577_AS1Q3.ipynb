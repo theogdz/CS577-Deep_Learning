{
  "nbformat": 4,
  "nbformat_minor": 0,
  "metadata": {
    "colab": {
      "name": "CS577-AS1Q3.ipynb",
      "provenance": [],
      "collapsed_sections": []
    },
    "kernelspec": {
      "name": "python3",
      "display_name": "Python 3"
    },
    "accelerator": "GPU"
  },
  "cells": [
    {
      "cell_type": "code",
      "metadata": {
        "id": "Xbifd2JvSNKL",
        "colab": {
          "base_uri": "https://localhost:8080/"
        },
        "outputId": "b0593b80-8bd4-4705-ffe6-d9a20ee70ff0"
      },
      "source": [
        "import tensorflow as tf\r\n",
        "import matplotlib.pyplot as plt\r\n",
        "from keras import models, optimizers, losses, metrics, layers\r\n",
        "from keras.utils import to_categorical\r\n",
        "import numpy as np\r\n",
        "from google.colab import drive\r\n",
        "import pandas as pd\r\n",
        "drive.mount(\"/content/drive\")"
      ],
      "execution_count": 1,
      "outputs": [
        {
          "output_type": "stream",
          "text": [
            "Mounted at /content/drive\n"
          ],
          "name": "stdout"
        }
      ]
    },
    {
      "cell_type": "code",
      "metadata": {
        "id": "6Z9wZbs6TDni"
      },
      "source": [
        "# load_spam_data\r\n",
        "def load_spam_data(df):\r\n",
        "    df = pd.read_csv(df, header=None)\r\n",
        "    df = df.values\r\n",
        "    not_spam, spam = np.split(df, np.where(np.diff(df[:,57]))[0]+1)\r\n",
        "    train_ns_emails = not_spam[:1500]\r\n",
        "    test_ns_emails = not_spam[1500:]\r\n",
        "    train_s_emails = spam[:2500]\r\n",
        "    test_s_emails = spam[2500:]\r\n",
        "    train_data = np.vstack([train_ns_emails,train_s_emails])[:,:57]\r\n",
        "    test_data = np.vstack([test_ns_emails,test_s_emails])[:,:57]\r\n",
        "    train_labels = np.vstack([train_ns_emails,train_s_emails])[:,57]\r\n",
        "    test_labels = np.vstack([test_ns_emails,test_s_emails])[:,57]\r\n",
        "    return (train_data,train_labels),(test_data,test_labels)\r\n",
        "\r\n",
        "# Step 1: Load the data\r\n",
        "(train_emails,train_labels),(test_emails,test_labels) = load_spam_data(\"https://archive.ics.uci.edu/ml/machine-learning-databases/spambase/spambase.data\")"
      ],
      "execution_count": 4,
      "outputs": []
    },
    {
      "cell_type": "code",
      "metadata": {
        "id": "GmAMXgDi03VK"
      },
      "source": [
        "# Step 2: Prepare the data\r\n",
        "mean = train_emails.mean(axis = 0)\r\n",
        "std = train_emails.std(axis=0)\r\n",
        "train_emails -= mean\r\n",
        "train_emails /= std\r\n",
        "test_emails -= mean\r\n",
        "test_emails /= std\r\n",
        "train_labels = np.asarray(train_labels).astype(\"float32\")\r\n",
        "test_labels = np.asarray(test_labels).astype(\"float32\")"
      ],
      "execution_count": 5,
      "outputs": []
    },
    {
      "cell_type": "code",
      "metadata": {
        "id": "AHV8yS4N0wui",
        "colab": {
          "base_uri": "https://localhost:8080/"
        },
        "outputId": "398480d6-fd93-4066-a621-895862dc480a"
      },
      "source": [
        "# Step 3: Create validation set\r\n",
        "val_emails = train_emails[:500]\r\n",
        "partial_emails_train = train_emails[500:]\r\n",
        "val_labels = train_labels[:500]\r\n",
        "partial_labels_train = train_labels[500:]\r\n"
      ],
      "execution_count": 10,
      "outputs": [
        {
          "output_type": "stream",
          "text": [
            "(500, 57)\n"
          ],
          "name": "stdout"
        }
      ]
    },
    {
      "cell_type": "code",
      "metadata": {
        "id": "BJ12pGpS0-wr"
      },
      "source": [
        "# Step 4 and 7: Build the network and tuning the hyper-parameters\r\n",
        "model = models.Sequential()\r\n",
        "model.add(layers.Dense(8, activation=\"relu\",input_shape=(57,)))\r\n",
        "model.add(layers.Dense(8, activation=\"tanh\"))\r\n",
        "model.add(layers.Dense(1, activation=\"sigmoid\",))"
      ],
      "execution_count": 36,
      "outputs": []
    },
    {
      "cell_type": "code",
      "metadata": {
        "id": "yEvhf-di1CAF"
      },
      "source": [
        "# Step 5 and 7: Compile the model and tuning the hyper-parameters\r\n",
        "model.compile(optimizer = optimizers.RMSprop(lr=0.001), loss = losses.binary_crossentropy, metrics = [metrics.binary_accuracy])"
      ],
      "execution_count": 37,
      "outputs": []
    },
    {
      "cell_type": "code",
      "metadata": {
        "id": "oDdUY7op1Ez2",
        "colab": {
          "base_uri": "https://localhost:8080/"
        },
        "outputId": "b4101039-de6f-4728-b811-3413ed9f7b8e"
      },
      "source": [
        "# Step 6: Training and validation\r\n",
        "history = model.fit(partial_emails_train,partial_labels_train,epochs = 40, batch_size = 32, validation_data =(val_emails,val_labels))"
      ],
      "execution_count": 38,
      "outputs": [
        {
          "output_type": "stream",
          "text": [
            "Epoch 1/40\n",
            "110/110 [==============================] - 1s 4ms/step - loss: 0.5947 - binary_accuracy: 0.7048 - val_loss: 0.6535 - val_binary_accuracy: 0.6320\n",
            "Epoch 2/40\n",
            "110/110 [==============================] - 0s 3ms/step - loss: 0.2981 - binary_accuracy: 0.8983 - val_loss: 0.5370 - val_binary_accuracy: 0.7620\n",
            "Epoch 3/40\n",
            "110/110 [==============================] - 0s 3ms/step - loss: 0.2198 - binary_accuracy: 0.9207 - val_loss: 0.4480 - val_binary_accuracy: 0.8420\n",
            "Epoch 4/40\n",
            "110/110 [==============================] - 0s 3ms/step - loss: 0.1872 - binary_accuracy: 0.9325 - val_loss: 0.4029 - val_binary_accuracy: 0.8640\n",
            "Epoch 5/40\n",
            "110/110 [==============================] - 0s 3ms/step - loss: 0.1742 - binary_accuracy: 0.9372 - val_loss: 0.3573 - val_binary_accuracy: 0.8840\n",
            "Epoch 6/40\n",
            "110/110 [==============================] - 0s 3ms/step - loss: 0.1502 - binary_accuracy: 0.9439 - val_loss: 0.3387 - val_binary_accuracy: 0.8900\n",
            "Epoch 7/40\n",
            "110/110 [==============================] - 0s 3ms/step - loss: 0.1422 - binary_accuracy: 0.9492 - val_loss: 0.3298 - val_binary_accuracy: 0.8940\n",
            "Epoch 8/40\n",
            "110/110 [==============================] - 0s 3ms/step - loss: 0.1442 - binary_accuracy: 0.9445 - val_loss: 0.3511 - val_binary_accuracy: 0.8900\n",
            "Epoch 9/40\n",
            "110/110 [==============================] - 0s 3ms/step - loss: 0.1462 - binary_accuracy: 0.9466 - val_loss: 0.3421 - val_binary_accuracy: 0.8980\n",
            "Epoch 10/40\n",
            "110/110 [==============================] - 0s 3ms/step - loss: 0.1372 - binary_accuracy: 0.9524 - val_loss: 0.3379 - val_binary_accuracy: 0.9000\n",
            "Epoch 11/40\n",
            "110/110 [==============================] - 0s 3ms/step - loss: 0.1231 - binary_accuracy: 0.9549 - val_loss: 0.3520 - val_binary_accuracy: 0.9000\n",
            "Epoch 12/40\n",
            "110/110 [==============================] - 0s 3ms/step - loss: 0.1367 - binary_accuracy: 0.9505 - val_loss: 0.3738 - val_binary_accuracy: 0.8940\n",
            "Epoch 13/40\n",
            "110/110 [==============================] - 0s 3ms/step - loss: 0.1303 - binary_accuracy: 0.9525 - val_loss: 0.3329 - val_binary_accuracy: 0.9080\n",
            "Epoch 14/40\n",
            "110/110 [==============================] - 0s 3ms/step - loss: 0.1209 - binary_accuracy: 0.9566 - val_loss: 0.3169 - val_binary_accuracy: 0.9120\n",
            "Epoch 15/40\n",
            "110/110 [==============================] - 0s 3ms/step - loss: 0.1061 - binary_accuracy: 0.9597 - val_loss: 0.3400 - val_binary_accuracy: 0.9060\n",
            "Epoch 16/40\n",
            "110/110 [==============================] - 0s 3ms/step - loss: 0.1318 - binary_accuracy: 0.9521 - val_loss: 0.3244 - val_binary_accuracy: 0.9100\n",
            "Epoch 17/40\n",
            "110/110 [==============================] - 0s 3ms/step - loss: 0.1108 - binary_accuracy: 0.9647 - val_loss: 0.3412 - val_binary_accuracy: 0.9060\n",
            "Epoch 18/40\n",
            "110/110 [==============================] - 0s 3ms/step - loss: 0.1187 - binary_accuracy: 0.9586 - val_loss: 0.3467 - val_binary_accuracy: 0.9040\n",
            "Epoch 19/40\n",
            "110/110 [==============================] - 0s 3ms/step - loss: 0.1199 - binary_accuracy: 0.9578 - val_loss: 0.3729 - val_binary_accuracy: 0.8940\n",
            "Epoch 20/40\n",
            "110/110 [==============================] - 0s 3ms/step - loss: 0.1031 - binary_accuracy: 0.9634 - val_loss: 0.3770 - val_binary_accuracy: 0.8900\n",
            "Epoch 21/40\n",
            "110/110 [==============================] - 0s 3ms/step - loss: 0.1215 - binary_accuracy: 0.9610 - val_loss: 0.3723 - val_binary_accuracy: 0.8880\n",
            "Epoch 22/40\n",
            "110/110 [==============================] - 0s 3ms/step - loss: 0.1116 - binary_accuracy: 0.9614 - val_loss: 0.3378 - val_binary_accuracy: 0.9080\n",
            "Epoch 23/40\n",
            "110/110 [==============================] - 0s 3ms/step - loss: 0.1108 - binary_accuracy: 0.9606 - val_loss: 0.3564 - val_binary_accuracy: 0.9040\n",
            "Epoch 24/40\n",
            "110/110 [==============================] - 0s 3ms/step - loss: 0.1044 - binary_accuracy: 0.9614 - val_loss: 0.3739 - val_binary_accuracy: 0.8920\n",
            "Epoch 25/40\n",
            "110/110 [==============================] - 0s 3ms/step - loss: 0.1093 - binary_accuracy: 0.9654 - val_loss: 0.3299 - val_binary_accuracy: 0.9080\n",
            "Epoch 26/40\n",
            "110/110 [==============================] - 0s 3ms/step - loss: 0.0976 - binary_accuracy: 0.9673 - val_loss: 0.3336 - val_binary_accuracy: 0.9080\n",
            "Epoch 27/40\n",
            "110/110 [==============================] - 0s 3ms/step - loss: 0.1002 - binary_accuracy: 0.9658 - val_loss: 0.3591 - val_binary_accuracy: 0.9040\n",
            "Epoch 28/40\n",
            "110/110 [==============================] - 0s 3ms/step - loss: 0.0895 - binary_accuracy: 0.9697 - val_loss: 0.3645 - val_binary_accuracy: 0.9000\n",
            "Epoch 29/40\n",
            "110/110 [==============================] - 0s 3ms/step - loss: 0.0972 - binary_accuracy: 0.9670 - val_loss: 0.3463 - val_binary_accuracy: 0.9040\n",
            "Epoch 30/40\n",
            "110/110 [==============================] - 0s 3ms/step - loss: 0.1009 - binary_accuracy: 0.9659 - val_loss: 0.3998 - val_binary_accuracy: 0.8900\n",
            "Epoch 31/40\n",
            "110/110 [==============================] - 0s 3ms/step - loss: 0.1015 - binary_accuracy: 0.9646 - val_loss: 0.3419 - val_binary_accuracy: 0.9040\n",
            "Epoch 32/40\n",
            "110/110 [==============================] - 0s 3ms/step - loss: 0.1031 - binary_accuracy: 0.9640 - val_loss: 0.3801 - val_binary_accuracy: 0.8900\n",
            "Epoch 33/40\n",
            "110/110 [==============================] - 0s 3ms/step - loss: 0.0947 - binary_accuracy: 0.9669 - val_loss: 0.3449 - val_binary_accuracy: 0.9060\n",
            "Epoch 34/40\n",
            "110/110 [==============================] - 0s 3ms/step - loss: 0.0881 - binary_accuracy: 0.9704 - val_loss: 0.3342 - val_binary_accuracy: 0.9040\n",
            "Epoch 35/40\n",
            "110/110 [==============================] - 0s 3ms/step - loss: 0.1052 - binary_accuracy: 0.9614 - val_loss: 0.3400 - val_binary_accuracy: 0.9040\n",
            "Epoch 36/40\n",
            "110/110 [==============================] - 0s 3ms/step - loss: 0.1015 - binary_accuracy: 0.9614 - val_loss: 0.3321 - val_binary_accuracy: 0.9040\n",
            "Epoch 37/40\n",
            "110/110 [==============================] - 0s 3ms/step - loss: 0.0938 - binary_accuracy: 0.9708 - val_loss: 0.3880 - val_binary_accuracy: 0.8920\n",
            "Epoch 38/40\n",
            "110/110 [==============================] - 0s 3ms/step - loss: 0.0993 - binary_accuracy: 0.9669 - val_loss: 0.3709 - val_binary_accuracy: 0.9020\n",
            "Epoch 39/40\n",
            "110/110 [==============================] - 0s 3ms/step - loss: 0.0846 - binary_accuracy: 0.9706 - val_loss: 0.3658 - val_binary_accuracy: 0.9020\n",
            "Epoch 40/40\n",
            "110/110 [==============================] - 0s 4ms/step - loss: 0.0910 - binary_accuracy: 0.9689 - val_loss: 0.3433 - val_binary_accuracy: 0.9060\n"
          ],
          "name": "stdout"
        }
      ]
    },
    {
      "cell_type": "markdown",
      "metadata": {
        "id": "syFFSepL3Kb-"
      },
      "source": [
        ""
      ]
    },
    {
      "cell_type": "code",
      "metadata": {
        "id": "hG2tXTDV1Hpx",
        "colab": {
          "base_uri": "https://localhost:8080/",
          "height": 573
        },
        "outputId": "5ee4e5fa-1ce3-4efc-9792-1c0cb052201f"
      },
      "source": [
        "# Plotting the graph\r\n",
        "loss = history.history[\"loss\"]\r\n",
        "val_loss = history.history[\"val_loss\"]\r\n",
        "epochs = range(1,len(loss)+1)\r\n",
        "plt.plot(epochs,loss,'bo',label=\"Training loss\")\r\n",
        "plt.plot(epochs, val_loss,\"b\",label=\"Validation loss\")\r\n",
        "plt.title(\"Training and Validation loss\")\r\n",
        "plt.xlabel(\"Epochs\")\r\n",
        "plt.ylabel(\"Loss\")\r\n",
        "plt.legend()\r\n",
        "plt.show()\r\n",
        "plt.clf()\r\n",
        "acc_values = history.history['binary_accuracy']\r\n",
        "val_acc_values = history.history['val_binary_accuracy']\r\n",
        "plt.plot(epochs,acc_values,'bo',label='Training acc')\r\n",
        "plt.plot(epochs,val_acc_values,'b',label='Validation acc')\r\n",
        "plt.title('Training and validation accuracy')\r\n",
        "plt.xlabel('Epochs')\r\n",
        "plt.ylabel('Accuracy')\r\n",
        "plt.legend()\r\n",
        "plt.show()"
      ],
      "execution_count": 29,
      "outputs": [
        {
          "output_type": "display_data",
          "data": {
            "image/png": "[encoded data removed]",
            "text/plain": [
              "<Figure size 432x288 with 1 Axes>"
            ]
          },
          "metadata": {
            "tags": [],
            "needs_background": "light"
          }
        },
        {
          "output_type": "display_data",
          "data": {
            "image/png": "[encoded data removed]",
            "text/plain": [
              "<Figure size 432x288 with 1 Axes>"
            ]
          },
          "metadata": {
            "tags": [],
            "needs_background": "light"
          }
        }
      ]
    },
    {
      "cell_type": "code",
      "metadata": {
        "id": "3AQPC0HU203s",
        "colab": {
          "base_uri": "https://localhost:8080/"
        },
        "outputId": "f3041c20-d45b-406c-b6b8-e9331d3e0bf3"
      },
      "source": [
        "# Step 8: Retraining the final model\r\n",
        "model = models.Sequential()\r\n",
        "model.add(layers.Dense(8, activation=\"relu\",input_shape=(57,)))\r\n",
        "model.add(layers.Dense(8, activation=\"tanh\"))\r\n",
        "model.add(layers.Dense(1, activation=\"sigmoid\",))\r\n",
        "model.compile(optimizer = optimizers.RMSprop(lr=0.001), loss = losses.binary_crossentropy, metrics = [metrics.binary_accuracy])\r\n",
        "history = model.fit(partial_emails_train,partial_labels_train,epochs = 14, batch_size = 32, validation_data =(val_emails,val_labels))\r\n",
        "results = model.evaluate(test_emails,test_labels)"
      ],
      "execution_count": 41,
      "outputs": [
        {
          "output_type": "stream",
          "text": [
            "Epoch 1/14\n",
            "110/110 [==============================] - 1s 4ms/step - loss: 0.5468 - binary_accuracy: 0.7632 - val_loss: 0.7723 - val_binary_accuracy: 0.5080\n",
            "Epoch 2/14\n",
            "110/110 [==============================] - 0s 3ms/step - loss: 0.3311 - binary_accuracy: 0.8841 - val_loss: 0.5495 - val_binary_accuracy: 0.7860\n",
            "Epoch 3/14\n",
            "110/110 [==============================] - 0s 3ms/step - loss: 0.2231 - binary_accuracy: 0.9291 - val_loss: 0.4281 - val_binary_accuracy: 0.8540\n",
            "Epoch 4/14\n",
            "110/110 [==============================] - 0s 3ms/step - loss: 0.1763 - binary_accuracy: 0.9408 - val_loss: 0.3903 - val_binary_accuracy: 0.8660\n",
            "Epoch 5/14\n",
            "110/110 [==============================] - 0s 3ms/step - loss: 0.1578 - binary_accuracy: 0.9439 - val_loss: 0.3811 - val_binary_accuracy: 0.8720\n",
            "Epoch 6/14\n",
            "110/110 [==============================] - 0s 3ms/step - loss: 0.1546 - binary_accuracy: 0.9472 - val_loss: 0.3927 - val_binary_accuracy: 0.8580\n",
            "Epoch 7/14\n",
            "110/110 [==============================] - 0s 3ms/step - loss: 0.1423 - binary_accuracy: 0.9511 - val_loss: 0.3988 - val_binary_accuracy: 0.8560\n",
            "Epoch 8/14\n",
            "110/110 [==============================] - 0s 3ms/step - loss: 0.1374 - binary_accuracy: 0.9517 - val_loss: 0.3607 - val_binary_accuracy: 0.8780\n",
            "Epoch 9/14\n",
            "110/110 [==============================] - 0s 3ms/step - loss: 0.1311 - binary_accuracy: 0.9564 - val_loss: 0.3754 - val_binary_accuracy: 0.8760\n",
            "Epoch 10/14\n",
            "110/110 [==============================] - 0s 3ms/step - loss: 0.1269 - binary_accuracy: 0.9565 - val_loss: 0.3521 - val_binary_accuracy: 0.8820\n",
            "Epoch 11/14\n",
            "110/110 [==============================] - 0s 3ms/step - loss: 0.1187 - binary_accuracy: 0.9592 - val_loss: 0.3642 - val_binary_accuracy: 0.8780\n",
            "Epoch 12/14\n",
            "110/110 [==============================] - 0s 3ms/step - loss: 0.1241 - binary_accuracy: 0.9566 - val_loss: 0.3677 - val_binary_accuracy: 0.8780\n",
            "Epoch 13/14\n",
            "110/110 [==============================] - 0s 3ms/step - loss: 0.1145 - binary_accuracy: 0.9622 - val_loss: 0.3486 - val_binary_accuracy: 0.8840\n",
            "Epoch 14/14\n",
            "110/110 [==============================] - 0s 3ms/step - loss: 0.1078 - binary_accuracy: 0.9617 - val_loss: 0.3828 - val_binary_accuracy: 0.8620\n",
            "19/19 [==============================] - 0s 2ms/step - loss: 0.4538 - binary_accuracy: 0.8669\n"
          ],
          "name": "stdout"
        }
      ]
    },
    {
      "cell_type": "code",
      "metadata": {
        "colab": {
          "base_uri": "https://localhost:8080/"
        },
        "id": "j2kmz30OoImn",
        "outputId": "e3128054-2426-4769-de4c-4e1ddf2162d9"
      },
      "source": [
        "print(results)"
      ],
      "execution_count": 42,
      "outputs": [
        {
          "output_type": "stream",
          "text": [
            "[0.45378729701042175, 0.8668885231018066]\n"
          ],
          "name": "stdout"
        }
      ]
    },
    {
      "cell_type": "code",
      "metadata": {
        "id": "dQ5pFtn06dnd"
      },
      "source": [
        "model.save(\"/content/drive/MyDrive/CS 577/AS1/Q3.h5\")"
      ],
      "execution_count": 43,
      "outputs": []
    }
  ]
}