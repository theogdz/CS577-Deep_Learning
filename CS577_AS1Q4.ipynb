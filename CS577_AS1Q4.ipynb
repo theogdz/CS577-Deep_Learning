{
  "nbformat": 4,
  "nbformat_minor": 0,
  "metadata": {
    "colab": {
      "name": "CS577-AS1Q4.ipynb",
      "provenance": [],
      "collapsed_sections": []
    },
    "kernelspec": {
      "name": "python3",
      "display_name": "Python 3"
    },
    "accelerator": "GPU"
  },
  "cells": [
    {
      "cell_type": "code",
      "metadata": {
        "id": "glGLTIQa6oHo",
        "colab": {
          "base_uri": "https://localhost:8080/"
        },
        "outputId": "45aeb80e-7c0d-48f7-f8c7-1425cfd58f3c"
      },
      "source": [
        "import pandas as pd\r\n",
        "import numpy as np\r\n",
        "from keras import models, layers\r\n",
        "import matplotlib.pyplot as plt\r\n",
        "from google.colab import drive\r\n",
        "drive.mount(\"/content/drive\")"
      ],
      "execution_count": 1,
      "outputs": [
        {
          "output_type": "stream",
          "text": [
            "Drive already mounted at /content/drive; to attempt to forcibly remount, call drive.mount(\"/content/drive\", force_remount=True).\n"
          ],
          "name": "stdout"
        }
      ]
    },
    {
      "cell_type": "code",
      "metadata": {
        "id": "Im-aYXK6e9UH"
      },
      "source": [
        "# Step 1: Load the data\r\n",
        "df = pd.read_csv('https://archive.ics.uci.edu/ml/machine-learning-databases/communities/communities.data', header = None)\r\n",
        "avgs = []\r\n",
        "\r\n",
        "# finding the average of each columns\r\n",
        "for i in range (len(df.columns)):\r\n",
        "  count = 0\r\n",
        "  sum = 0\r\n",
        "  for j in df[i]:\r\n",
        "   if j!=(\"?\"):\r\n",
        "     try:\r\n",
        "          var = float(j)\r\n",
        "          sum += (var)\r\n",
        "          count+=1\r\n",
        "     except:\r\n",
        "       pass\r\n",
        "  try: \r\n",
        "    avg = sum/count\r\n",
        "    avgs.append(avg)\r\n",
        "  except:\r\n",
        "    avgs.append(0)\r\n",
        "    pass\r\n",
        "\r\n",
        "# If the cell is \"?\" replace by the average of the column\r\n",
        "for i in range (len(df.columns)):\r\n",
        "  for j in range (len(df[i])):\r\n",
        "   if (df.iloc[j,i])==(\"?\"):\r\n",
        "     df.iloc[j,i] = avgs[i]\r\n",
        "   else:\r\n",
        "     try:\r\n",
        "      (df.iloc[j,i]) = float(df.iloc[j,i])\r\n",
        "     except:\r\n",
        "       pass\r\n"
      ],
      "execution_count": null,
      "outputs": []
    },
    {
      "cell_type": "code",
      "metadata": {
        "id": "hv0pKLp3rbnm"
      },
      "source": [
        "# Step 2: Prepare the data\r\n",
        "# drop the non-numerical column\r\n",
        "df = df.drop(df.columns[3], axis = 1)\r\n",
        "# normalize columns by subtracting the mean and dividing by the standard deviation\r\n",
        "df -= df.mean()\r\n",
        "df /= df.std()"
      ],
      "execution_count": null,
      "outputs": []
    },
    {
      "cell_type": "code",
      "metadata": {
        "id": "XB5S7DIxgCHb"
      },
      "source": [
        "def load_crime_data(df):\r\n",
        "  ys = df.iloc[:,-1:].to_numpy()\r\n",
        "  ys = np.asarray(ys).astype(np.float32)\r\n",
        "  xs = df.iloc[:,0:127].to_numpy()\r\n",
        "  xs = np.asarray(xs).astype(np.float32)\r\n",
        "  \r\n",
        "  return [xs, ys]\r\n",
        "\r\n",
        "xs,ys= load_crime_data(df)[0],load_crime_data(df)[1]"
      ],
      "execution_count": null,
      "outputs": []
    },
    {
      "cell_type": "code",
      "metadata": {
        "id": "Ksdy_qI8N7e9"
      },
      "source": [
        "from google.colab import drive\n",
        "drive.mount('/content/drive')"
      ],
      "execution_count": null,
      "outputs": []
    },
    {
      "cell_type": "code",
      "metadata": {
        "id": "TD9ct4HCsLsq"
      },
      "source": [
        "# Step 3: Build the network\r\n",
        "def build_model():\r\n",
        "  model = models.Sequential()\r\n",
        "  model.add(layers.Dense(16, activation = 'relu', input_shape=(127,)))\r\n",
        "  model.add(layers.Dense(32, activation = 'relu'))\r\n",
        "  model.add(layers.Dense(16, activation = 'relu'))\r\n",
        "  model.add(layers.Dense(1))\r\n",
        "  model.compile(optimizer = 'rmsprop', loss = 'mse', metrics = ['mae'])\r\n",
        "  return model"
      ],
      "execution_count": null,
      "outputs": []
    },
    {
      "cell_type": "code",
      "metadata": {
        "id": "_o0ZvbLZl7DO"
      },
      "source": [
        "#Step 4: Training and validation\r\n",
        "k = 4\r\n",
        "num_val_samples = len(xs)//k \r\n",
        "num_epochs = 200\r\n",
        "all_scores = []\r\n",
        "all_mae_histories = []\r\n",
        "\r\n",
        "for i in range(k):\r\n",
        "  print(\"processing fold #\", i)\r\n",
        "\r\n",
        "  val_data = xs[i * num_val_samples: (i+1) * num_val_samples]\r\n",
        "  val_targets = ys[i * num_val_samples: (i+1) * num_val_samples]\r\n",
        "\r\n",
        "  x_train = np.concatenate(\r\n",
        "    [xs[:i * num_val_samples],\r\n",
        "     xs[(i+1) * num_val_samples:]],\r\n",
        "     axis = 0)\r\n",
        "  \r\n",
        "  y_train = np.concatenate(\r\n",
        "      [ys[:i * num_val_samples],\r\n",
        "       ys[(i+1) * num_val_samples:]],\r\n",
        "        axis=0)"
      ],
      "execution_count": null,
      "outputs": []
    },
    {
      "cell_type": "code",
      "metadata": {
        "id": "1TRU95bttPpP"
      },
      "source": [
        "model = build_model()\r\n",
        "history = model.fit(\r\n",
        "    x_train,\r\n",
        "    y_train,\r\n",
        "    epochs = 200,\r\n",
        "    batch_size = 5,\r\n",
        "    verbose = 0)"
      ],
      "execution_count": null,
      "outputs": []
    },
    {
      "cell_type": "code",
      "metadata": {
        "id": "Aq_2bcgCuFz_"
      },
      "source": [
        "# Plotting\r\n",
        "mae_history = history.history['mae']\r\n",
        "all_mae_histories.append(mae_history)\r\n",
        "val_mse, val_mae = model.evaluate(val_data, val_targets, verbose=0)\r\n",
        "all_scores.append(val_mae)\r\n",
        "\r\n",
        "average_mae_history = [\r\n",
        "  np.mean([x[i] for x in all_mae_histories]) for i in range(num_epochs)]\r\n",
        "\r\n",
        "plt.plot(range(1, len(average_mae_history) + 1), average_mae_history)\r\n",
        "plt.xlabel('Epochs')\r\n",
        "plt.ylabel('Validation MAE')\r\n",
        "plt.show()\r\n",
        "plt.clf()\r\n",
        "print(np.min(all_scores), all_scores)\r\n",
        "\r\n",
        "def smooth_curve(points,factor=.9):\r\n",
        "  smoothed_points = []\r\n",
        "  for point in points:\r\n",
        "    if smoothed_points:\r\n",
        "      previous = smoothed_points[-1]\r\n",
        "      smoothed_points.append(previous * factor + point * (1-factor))\r\n",
        "    else:\r\n",
        "      smoothed_points.append(point)\r\n",
        "  return smoothed_points\r\n",
        "\r\n",
        "smoothed_mae_history = smooth_curve(average_mae_history[10:])\r\n",
        "\r\n",
        "plt.plot(range(11, len(average_mae_history) + 1), smoothed_mae_history)\r\n",
        "plt.xlabel('Epochs')\r\n",
        "plt.ylabel('Validation MAE')\r\n",
        "plt.show()\r\n"
      ],
      "execution_count": null,
      "outputs": []
    },
    {
      "cell_type": "code",
      "metadata": {
        "id": "lMcS9BOuwWJ3"
      },
      "source": [
        "#Step 5: Retrain on whole data set\r\n",
        "model = build_model()\r\n",
        "history = model.fit(\r\n",
        "    xs,\r\n",
        "    ys,\r\n",
        "    epochs = 200,\r\n",
        "    batch_size = 5,\r\n",
        "    verbose = 0)\r\n",
        "mae_history = history.history['mae']\r\n",
        "all_mae_histories.append(mae_history)\r\n",
        "val_mse, val_mae = model.evaluate(val_data, val_targets, verbose=0)\r\n",
        "all_scores.append(val_mae)\r\n",
        "print(np.mean(all_scores))"
      ],
      "execution_count": null,
      "outputs": []
    },
    {
      "cell_type": "code",
      "metadata": {
        "id": "efneqnf32KwI"
      },
      "source": [
        "model.save(\"/content/drive/MyDrive/CS 577/AS1/Q4.h5\")"
      ],
      "execution_count": null,
      "outputs": []
    }
  ]
}